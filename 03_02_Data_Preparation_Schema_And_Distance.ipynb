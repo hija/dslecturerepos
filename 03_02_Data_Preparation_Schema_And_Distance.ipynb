{
 "cells": [
  {
   "cell_type": "markdown",
   "id": "a5d10434",
   "metadata": {},
   "source": [
    "# Constraints, Levenshtein- and Edit-Distance\n",
    "\n",
    "In this small notebook, we are going to use the dataset from the lecture to try out different methods to find inconsistencies.\n",
    "\n",
    "As always, we first import our required dependencies!"
   ]
  },
  {
   "cell_type": "code",
   "execution_count": 1,
   "id": "f8ed6e5e",
   "metadata": {},
   "outputs": [],
   "source": [
    "import sklearn\n",
    "import pandas as pd\n",
    "from pandas_schema import Column, Schema\n",
    "from pandas_schema.validation import CustomSeriesValidation, LeadingWhitespaceValidation, TrailingWhitespaceValidation, CanConvertValidation, MatchesPatternValidation, IsDistinctValidation, InRangeValidation, InListValidation"
   ]
  },
  {
   "cell_type": "markdown",
   "id": "b9b5f2ea",
   "metadata": {},
   "source": [
    "Now is the first time we are going to create a dataset ourself:"
   ]
  },
  {
   "cell_type": "code",
   "execution_count": 38,
   "id": "7ad0042b",
   "metadata": {},
   "outputs": [],
   "source": [
    "\n",
    "\n",
    "df = pd.DataFrame(df_dict)\n",
    "df.set_index('Id', inplace=True)"
   ]
  },
  {
   "cell_type": "code",
   "execution_count": 39,
   "id": "7bc89f15",
   "metadata": {},
   "outputs": [
    {
     "data": {
      "text/html": [
       "<div>\n",
       "<style scoped>\n",
       "    .dataframe tbody tr th:only-of-type {\n",
       "        vertical-align: middle;\n",
       "    }\n",
       "\n",
       "    .dataframe tbody tr th {\n",
       "        vertical-align: top;\n",
       "    }\n",
       "\n",
       "    .dataframe thead th {\n",
       "        text-align: right;\n",
       "    }\n",
       "</style>\n",
       "<table border=\"1\" class=\"dataframe\">\n",
       "  <thead>\n",
       "    <tr style=\"text-align: right;\">\n",
       "      <th></th>\n",
       "      <th>First Name</th>\n",
       "      <th>Last Name</th>\n",
       "      <th>Age</th>\n",
       "      <th>Mail</th>\n",
       "    </tr>\n",
       "    <tr>\n",
       "      <th>Id</th>\n",
       "      <th></th>\n",
       "      <th></th>\n",
       "      <th></th>\n",
       "      <th></th>\n",
       "    </tr>\n",
       "  </thead>\n",
       "  <tbody>\n",
       "    <tr>\n",
       "      <th>1</th>\n",
       "      <td>Hilko</td>\n",
       "      <td>Janßen</td>\n",
       "      <td>26</td>\n",
       "      <td>mail@hilko.eu</td>\n",
       "    </tr>\n",
       "    <tr>\n",
       "      <th>2</th>\n",
       "      <td>Hilko</td>\n",
       "      <td>Janssen</td>\n",
       "      <td>Twenty Six</td>\n",
       "      <td>mail@hilko.eu</td>\n",
       "    </tr>\n",
       "    <tr>\n",
       "      <th>3</th>\n",
       "      <td>Christoph</td>\n",
       "      <td>Kolumbus</td>\n",
       "      <td>226</td>\n",
       "      <td>christoph@kolumbus.online</td>\n",
       "    </tr>\n",
       "    <tr>\n",
       "      <th>4</th>\n",
       "      <td>None</td>\n",
       "      <td>Homer</td>\n",
       "      <td>26</td>\n",
       "      <td>homer@</td>\n",
       "    </tr>\n",
       "    <tr>\n",
       "      <th>5</th>\n",
       "      <td>Theresa</td>\n",
       "      <td>May</td>\n",
       "      <td>61</td>\n",
       "      <td>theresa@may.com</td>\n",
       "    </tr>\n",
       "  </tbody>\n",
       "</table>\n",
       "</div>"
      ],
      "text/plain": [
       "   First Name Last Name         Age                       Mail\n",
       "Id                                                            \n",
       "1       Hilko    Janßen          26              mail@hilko.eu\n",
       "2       Hilko   Janssen  Twenty Six              mail@hilko.eu\n",
       "3   Christoph  Kolumbus         226  christoph@kolumbus.online\n",
       "4        None     Homer          26                     homer@\n",
       "5     Theresa       May          61            theresa@may.com"
      ]
     },
     "execution_count": 39,
     "metadata": {},
     "output_type": "execute_result"
    }
   ],
   "source": [
    "df.head()"
   ]
  },
  {
   "cell_type": "markdown",
   "id": "22ed157f",
   "metadata": {},
   "source": [
    "Now we can define a ValidationSchema and check against it:"
   ]
  },
  {
   "cell_type": "code",
   "execution_count": 44,
   "id": "da5ce57f",
   "metadata": {},
   "outputs": [
    {
     "name": "stdout",
     "output_type": "stream",
     "text": [
      "{row: 2, column: \"Age\"}: \"Twenty Six\" was not in the range [0, 120)\n",
      "{row: 2, column: \"Mail\"}: \"mail@hilko.eu\" contains values that are not unique\n",
      "{row: 3, column: \"Age\"}: \"226\" was not in the range [0, 120)\n",
      "is none / null\n",
      "length is not greater than 0\n",
      "{row: 6, column: \"Last Name\"}: \"\" length is not greater than 0\n"
     ]
    }
   ],
   "source": [
    "not_none_validation = CustomSeriesValidation(lambda s: ~s.isnull(), 'is none / null')\n",
    "str_length_gt_0 = CustomSeriesValidation(lambda s: s.str.len() > 0, 'length is not greater than 0')\n",
    "\n",
    "schema = Schema([\n",
    "    Column('First Name', [not_none_validation, str_length_gt_0]),\n",
    "    Column('Last Name', [not_none_validation, str_length_gt_0]),\n",
    "    Column('Age', [InRangeValidation(0, 120)]),\n",
    "    Column('Mail', [IsDistinctValidation()])\n",
    "])\n",
    "\n",
    "errors = schema.validate(df)\n",
    "\n",
    "for error in errors:\n",
    "    print(error)"
   ]
  },
  {
   "cell_type": "markdown",
   "id": "7085e4e6",
   "metadata": {},
   "source": [
    "## Distances"
   ]
  },
  {
   "cell_type": "code",
   "execution_count": 46,
   "id": "031348f1",
   "metadata": {},
   "outputs": [],
   "source": [
    "import Levenshtein"
   ]
  },
  {
   "cell_type": "code",
   "execution_count": 51,
   "id": "24fb648d",
   "metadata": {},
   "outputs": [
    {
     "name": "stdout",
     "output_type": "stream",
     "text": [
      "['Janßen' 'Janssen' 'Kolumbus' 'Homer' 'May' '']\n"
     ]
    }
   ],
   "source": [
    "last_names = df['Last Name'].values\n",
    "\n",
    "print(last_names)"
   ]
  },
  {
   "cell_type": "code",
   "execution_count": 62,
   "id": "3b6fc5c9",
   "metadata": {},
   "outputs": [
    {
     "name": "stdout",
     "output_type": "stream",
     "text": [
      "Difference between Janßen  and Janssen is 3\n",
      "Difference between Janßen   and Kolumbus is 8\n",
      "Difference between Janßen and Homer  is 6\n",
      "Difference between Janßen and May    is 5\n",
      "Difference between Janßen and        is 6\n",
      "Difference between Janssen  and Kolumbus is 8\n",
      "Difference between Janssen and Homer   is 7\n",
      "Difference between Janssen and May     is 6\n",
      "Difference between Janssen and         is 7\n",
      "Difference between Kolumbus and Homer    is 7\n",
      "Difference between Kolumbus and May      is 8\n",
      "Difference between Kolumbus and          is 8\n",
      "Difference between Homer and May   is 5\n",
      "Difference between Homer and       is 5\n",
      "Difference between May and     is 3\n"
     ]
    }
   ],
   "source": [
    "for i in range(len(last_names)):\n",
    "    for j in range(i+1, len(last_names)):\n",
    "        s1 = last_names[i]\n",
    "        s2 = last_names[j]\n",
    "        \n",
    "        while True:\n",
    "            if len(s1) < len(s2):\n",
    "                s1 += \" \"\n",
    "            elif len(s1) > len(s2):\n",
    "                s2 += \" \"\n",
    "            else:\n",
    "                break\n",
    "        print(f'Difference between {s1} and {s2} is {Levenshtein.distance(s1, s2)}')"
   ]
  }
 ],
 "metadata": {
  "kernelspec": {
   "display_name": "Datascience Kernel",
   "language": "python",
   "name": "datascience"
  },
  "language_info": {
   "codemirror_mode": {
    "name": "ipython",
    "version": 3
   },
   "file_extension": ".py",
   "mimetype": "text/x-python",
   "name": "python",
   "nbconvert_exporter": "python",
   "pygments_lexer": "ipython3",
   "version": "3.8.12"
  }
 },
 "nbformat": 4,
 "nbformat_minor": 5
}
