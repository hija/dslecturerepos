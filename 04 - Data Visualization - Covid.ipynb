{
 "cells": [
  {
   "cell_type": "markdown",
   "id": "43e670cb-0248-424e-bf75-06d17d434690",
   "metadata": {},
   "source": [
    "# 🦠 Covid Cases in Innsbruck\n",
    "\n",
    "Let's have a look at the COVID cases in Innsbruck (City). If you remember the **OSEMN** process, you probably recall that the first step is to collect data.\n",
    "\n",
    "📚 **Your task**: Find the COVID cases for Innsbruck.\n",
    "\n",
    "**Hint**: There is an official platform from the government of Austria to get the data."
   ]
  },
  {
   "cell_type": "markdown",
   "id": "18c5e8f2-3ffb-45bb-81a3-c4940c5ab63e",
   "metadata": {},
   "source": [
    "I did the data from ..."
   ]
  },
  {
   "cell_type": "code",
   "execution_count": null,
   "id": "df4e252f-564a-44c0-a19a-67284b01227e",
   "metadata": {},
   "outputs": [],
   "source": [
    "import pandas as pd\n",
    "import matplotlib.pyplot as plt\n",
    "import seaborn as sns\n",
    "import numpy as np"
   ]
  },
  {
   "cell_type": "markdown",
   "id": "ad613aa5-a668-47e9-8318-87ad1740d1e4",
   "metadata": {},
   "source": [
    "Because the data is in German, I translated the column names into English and put the dataset (called `CovidFaelle_Timeline_GKZ.csv`) into the data directory.\n",
    "\n",
    "📚 **Your task**: Load the dataset with panda into a DataFrame called `df`."
   ]
  },
  {
   "cell_type": "code",
   "execution_count": null,
   "id": "f9667735-38dd-48da-8e84-249060c1b1d5",
   "metadata": {},
   "outputs": [],
   "source": []
  },
  {
   "cell_type": "markdown",
   "id": "5c5e9b4d-94bb-49a0-8766-f9e45aeeba59",
   "metadata": {},
   "source": [
    "📚 **Your task**: Since we are only interested in looking at the data from `Innsbruck(Stadt)`, create a new DataFrame called `df_innsbruck_city` which only contains the rows in which the District is `Innsbruck-Stadt`. "
   ]
  },
  {
   "cell_type": "code",
   "execution_count": null,
   "id": "90e04053-b00a-46ae-a1d2-08b4a57351fe",
   "metadata": {},
   "outputs": [],
   "source": [
    "\n",
    "# Plese include this line to convert the Time column to a datetime column :)\n",
    "df_innsbruck_city['Time'] = pd.to_datetime(df_innsbruck_city['Time'], format='%d.%m.%Y 00:00:00')"
   ]
  },
  {
   "cell_type": "markdown",
   "id": "ade0dcfb-0e6b-46a1-a97f-8b7debfeef89",
   "metadata": {},
   "source": [
    "Let's get an overview over the data.\n",
    "\n",
    "📚 **Your task**: Use the functions we already learned last week to get an overview over the data."
   ]
  },
  {
   "cell_type": "code",
   "execution_count": null,
   "id": "8eb00c3f-933f-4ca6-9278-a9e784880152",
   "metadata": {},
   "outputs": [],
   "source": []
  },
  {
   "cell_type": "markdown",
   "id": "db7dfd64-62e8-43cc-96fa-f6208db62813",
   "metadata": {},
   "source": [
    "# Scatterplot"
   ]
  },
  {
   "cell_type": "code",
   "execution_count": null,
   "id": "75af2900-bcf1-4de8-bb51-714cce10d492",
   "metadata": {},
   "outputs": [],
   "source": [
    "sns.scatterplot(x='NumDeceasedDaily', y='NumRecoveredDaily', data=df_innsbruck_city)"
   ]
  },
  {
   "cell_type": "markdown",
   "id": "f4e3c049-cb47-4fe5-ac1d-1eac81b240ac",
   "metadata": {},
   "source": [
    "# Lineplot"
   ]
  },
  {
   "cell_type": "code",
   "execution_count": null,
   "id": "01c8f257-781e-4201-86c1-ac8ed0f119cb",
   "metadata": {},
   "outputs": [],
   "source": [
    "import matplotlib.dates as md\n",
    "\n",
    "# prepare the figure\n",
    "fig, ax = plt.subplots()\n",
    "\n",
    "# plot figure\n",
    "sns.lineplot(x='Time', y='NumCases7Days', data=df_innsbruck_city)\n",
    "\n",
    "# specify the position of the major ticks at the beginning of the week\n",
    "ax.xaxis.set_major_locator(md.MonthLocator(interval=2))\n",
    "ax.xaxis.set_major_formatter(md.DateFormatter('%Y-%m-%d'))\n",
    "plt.setp(ax.xaxis.get_majorticklabels(), rotation = 90)\n",
    "\n",
    "# set axes labels\n",
    "plt.xlabel('Date')\n",
    "plt.ylabel('Cases in 7 weeks')\n",
    "\n",
    "# show the plot\n",
    "plt.show()"
   ]
  },
  {
   "cell_type": "markdown",
   "id": "c9b623da-f18a-4413-a365-078875e3643f",
   "metadata": {},
   "source": [
    "# Barplot"
   ]
  },
  {
   "cell_type": "code",
   "execution_count": null,
   "id": "a22c4363-d177-4983-825d-74988e95b57e",
   "metadata": {},
   "outputs": [],
   "source": [
    "# Lets look at the latest row\n",
    "\n",
    "last_row = df_innsbruck_city.iloc[-1]\n",
    "x_labels = ['Total number of recovered', 'Total number of deceased']\n",
    "y_data = [last_row['NumRecoveredSum'], last_row['NumDeceasedSum']]\n",
    "\n",
    "ax = sns.barplot(x=x_labels, y=y_data)\n",
    "ax.set_xticklabels(x_labels, rotation = 45, ha=\"right\")\n",
    "ax.set(yscale='log')"
   ]
  },
  {
   "cell_type": "code",
   "execution_count": null,
   "id": "0c2c961f-ec87-410e-a595-d31093828419",
   "metadata": {},
   "outputs": [],
   "source": [
    "plt.pie(y_data, labels=x_labels, autopct='%.2f')"
   ]
  },
  {
   "cell_type": "markdown",
   "id": "1a4030a6-62b2-4d5c-a42d-dfce584f37bb",
   "metadata": {},
   "source": [
    "# Boxplot"
   ]
  },
  {
   "cell_type": "code",
   "execution_count": null,
   "id": "ea46062e-5059-4d4f-8b63-69470a3a960f",
   "metadata": {},
   "outputs": [],
   "source": [
    "sns.boxplot(x='NumCases', data=df_innsbruck_city)"
   ]
  },
  {
   "cell_type": "markdown",
   "id": "713f56c5-a271-4839-bf37-057ed753efdb",
   "metadata": {},
   "source": [
    "# Violinplot"
   ]
  },
  {
   "cell_type": "code",
   "execution_count": null,
   "id": "d0ce5822-8f53-49e0-b112-da110beb7de1",
   "metadata": {},
   "outputs": [],
   "source": [
    "sns.violinplot(x='NumCases', data=df_innsbruck_city)"
   ]
  },
  {
   "cell_type": "markdown",
   "id": "342c093b-542c-4df2-9828-67b149076734",
   "metadata": {},
   "source": [
    "# Let's add some style :)\n"
   ]
  },
  {
   "cell_type": "markdown",
   "id": "291fbd06-3539-4a05-8076-9d8e11684b84",
   "metadata": {},
   "source": [
    "**Your task**: Find out the color codes of the MCI logo and insert them in the code below. Then exectute all code cells again."
   ]
  },
  {
   "cell_type": "code",
   "execution_count": null,
   "id": "cf6e67a1-7373-44a9-888c-c24dbc7c5564",
   "metadata": {},
   "outputs": [],
   "source": [
    "# Create an array with the colors you want to use\n",
    "colors = [\"#1d497f\", \"#e69e38\", \"#3c3c3b\"]\n",
    "\n",
    "# Set your custom color palette\n",
    "sns.set_palette(sns.color_palette(colors))\n",
    "sns.set_style('whitegrid')"
   ]
  },
  {
   "cell_type": "markdown",
   "id": "e95d81a8-8560-4468-99ee-d26f692cd8a9",
   "metadata": {},
   "source": [
    "**Your task**: Execute the next code cell and run all code cells again. Do you remember what we said about showing uncertainty? How do the new plots fit into the picture of uncertainty?"
   ]
  },
  {
   "cell_type": "code",
   "execution_count": null,
   "id": "fe6a519d-f99d-4dbd-8f81-2198568467b6",
   "metadata": {},
   "outputs": [],
   "source": [
    "plt.xkcd()"
   ]
  }
 ],
 "metadata": {
  "kernelspec": {
   "display_name": "Python 3 (ipykernel)",
   "language": "python",
   "name": "python3"
  },
  "language_info": {
   "codemirror_mode": {
    "name": "ipython",
    "version": 3
   },
   "file_extension": ".py",
   "mimetype": "text/x-python",
   "name": "python",
   "nbconvert_exporter": "python",
   "pygments_lexer": "ipython3",
   "version": "3.8.12"
  }
 },
 "nbformat": 4,
 "nbformat_minor": 5
}
