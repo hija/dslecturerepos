{
 "cells": [
  {
   "cell_type": "markdown",
   "id": "dd711c2b-6362-4440-b74e-2649cfd98156",
   "metadata": {},
   "source": [
    "# 1. Python and Pandas Recap\n",
    "\n",
    "## Loading the data\n",
    "Load the following dataset into a new DataFrame `drinks_df`:\n",
    "\n",
    "https://raw.githubusercontent.com/justmarkham/pandas-videos/master/data/drinks.csv\n",
    "\n",
    "Hint: You can use the `read_csv`-method directly with the URL, since it accepts an URL as parameter."
   ]
  },
  {
   "cell_type": "code",
   "execution_count": 1,
   "id": "faa1c5c0-f356-4e72-9f24-20dedcf7795b",
   "metadata": {},
   "outputs": [],
   "source": [
    "# Please keep these lines\n",
    "import pandas as pd\n",
    "from dshelper import load_unpreprocessed_dataset\n",
    "# End keep these lines\n",
    "\n",
    "# Your solution here:"
   ]
  },
  {
   "cell_type": "markdown",
   "id": "f2d2f89b-9b2c-49c4-8617-8651015f12df",
   "metadata": {},
   "source": [
    "## Getting an overview 👓\n",
    "\n",
    "Get an overview about the dataset by using...\n",
    "\n",
    "* the `head` function\n",
    "* the `describe` function\n",
    "* the `info` function"
   ]
  },
  {
   "cell_type": "code",
   "execution_count": null,
   "id": "dc299504-8a16-4ec9-8e14-caacdcea8544",
   "metadata": {},
   "outputs": [],
   "source": [
    "# Your solution here"
   ]
  },
  {
   "cell_type": "markdown",
   "id": "406400c7-99f0-42e6-9e61-58fd15f791f2",
   "metadata": {},
   "source": [
    "## Grouping Data\n",
    "\n",
    "Use the <a href=\"https://pandas.pydata.org/pandas-docs/stable/user_guide/groupby.html#groupby-object-attributes\">groupby</a> function on the continent to find out what the average, i.e. mean, beer servings in Europe are."
   ]
  },
  {
   "cell_type": "code",
   "execution_count": null,
   "id": "7a3b5148-a9c3-448e-a57b-cee4dcb01576",
   "metadata": {},
   "outputs": [],
   "source": [
    "# Your solution here"
   ]
  },
  {
   "cell_type": "markdown",
   "id": "509814bb-10bd-4991-af63-9b3387723362",
   "metadata": {},
   "source": [
    "## Selecting Data\n",
    "Create a new dataset called `gt_10l_alcohol_df` which contains only the rows of `drinks_df`in which `total_litres_of_pure_alcohol` is greater than 10."
   ]
  },
  {
   "cell_type": "code",
   "execution_count": null,
   "id": "2e60f8d8-fcd5-4b0d-b3a0-b21ef1a1df00",
   "metadata": {},
   "outputs": [],
   "source": [
    "# Your solution here"
   ]
  },
  {
   "cell_type": "markdown",
   "id": "4a943fd1-d271-4d10-9318-360d1849fa01",
   "metadata": {},
   "source": [
    "Now use your new dataframe `gt_10l_alcohol_df` and get the continent which occurs most often in the DataFrame!"
   ]
  },
  {
   "cell_type": "code",
   "execution_count": null,
   "id": "b470f610-b51f-4e31-bad5-6f2b22632f1b",
   "metadata": {},
   "outputs": [],
   "source": [
    "# Your solution here"
   ]
  },
  {
   "cell_type": "markdown",
   "id": "2fe1565d-0425-4c73-ab11-f8640510e7f1",
   "metadata": {},
   "source": [
    "Now create two variables from your `drinks_df`: One (called `X`) which contmodens all columns except for `total_litres_of_pure_alcohol` and one (called `y`) which contains the `total_litres_of_pure_alcohol` column only.\n",
    "\n",
    "Hint: Use the <a href=\"https://stackoverflow.com/a/18145399\">drop</a> funtion!\n"
   ]
  },
  {
   "cell_type": "code",
   "execution_count": null,
   "id": "7574abe0-3862-4399-81a3-d9dedbb9d570",
   "metadata": {},
   "outputs": [],
   "source": [
    "# Your solution here"
   ]
  },
  {
   "cell_type": "markdown",
   "id": "651058c6-96d5-41e2-ad48-7b142a3679bd",
   "metadata": {},
   "source": [
    "## Preparing data\n",
    "Now we are going to load a dataset which require some preprocessing..."
   ]
  },
  {
   "cell_type": "code",
   "execution_count": null,
   "id": "43f5dd01-f181-4ae7-842a-fcbd68312a52",
   "metadata": {},
   "outputs": [],
   "source": [
    "broken_df = load_unpreprocessed_dataset()"
   ]
  },
  {
   "cell_type": "markdown",
   "id": "fb107a0c-458c-4560-b8f3-7fdc77370523",
   "metadata": {},
   "source": [
    "Look how many null values are in the dataset. Print the rows in which the null values occur!"
   ]
  },
  {
   "cell_type": "code",
   "execution_count": 2,
   "id": "1021d15c-189e-4872-b416-be025338d6e4",
   "metadata": {},
   "outputs": [],
   "source": [
    "# Your solution here"
   ]
  },
  {
   "cell_type": "markdown",
   "id": "ab2634b6-ed86-413e-97f8-81784046368b",
   "metadata": {},
   "source": [
    "Now fill all missing values in beer_servings with the median value of beer_servings.\n",
    "\n",
    "Think: What could be a better approach? (You don't have to implement it!)                            "
   ]
  },
  {
   "cell_type": "code",
   "execution_count": 3,
   "id": "f25bd6ac-4990-4519-8dbe-83d4b6bdd6f8",
   "metadata": {},
   "outputs": [],
   "source": [
    "# Your solution here"
   ]
  },
  {
   "cell_type": "markdown",
   "id": "4709bbdb-cbce-4a9e-b575-3c832a62b62e",
   "metadata": {},
   "source": [
    "Finally, delete all rows in which country is null."
   ]
  },
  {
   "cell_type": "code",
   "execution_count": 4,
   "id": "9e687999-adec-498a-8b57-d703e3f5e41e",
   "metadata": {},
   "outputs": [],
   "source": [
    "# Your solution here"
   ]
  },
  {
   "cell_type": "markdown",
   "id": "973d732f-0275-418a-a74b-08d8a5149822",
   "metadata": {},
   "source": [
    "### Filling missing values \n",
    "\n",
    "How would you fill the following NULL value, if you would use...\n",
    "\n",
    "* Listwise deletion\n",
    "* Mean imputation\n",
    "* Using last value\n",
    "\n",
    "| Income per month |\n",
    "|------------------|\n",
    "| 55.00\\$          |\n",
    "| NULL             |\n",
    "| 75.000\\$          |"
   ]
  },
  {
   "cell_type": "markdown",
   "id": "4384feaf-5e7e-440c-9df0-1a04d720d4c3",
   "metadata": {},
   "source": [
    "### One Hot Encoding\n",
    "Apply One Hot Encoding to the `continent` column of the `broken_df`.\n",
    "\n",
    "Click <a href=\"https://stackoverflow.com/a/58101528\">here</a> for a small hint. Use `pd.get_dummies`!"
   ]
  },
  {
   "cell_type": "code",
   "execution_count": 5,
   "id": "1f6ae316-2dc8-43db-b5c4-87c1b9de64f9",
   "metadata": {},
   "outputs": [],
   "source": [
    "# Your solution here"
   ]
  },
  {
   "cell_type": "markdown",
   "id": "5d960456-af91-4759-aee9-f41eaf4af840",
   "metadata": {},
   "source": [
    "# String Distance (15m)\n",
    "\n",
    "Calculate the **Hamming Distance** and **Levenshtein Distance** between the two strings \"flaw\" and \"lawn\"."
   ]
  },
  {
   "cell_type": "markdown",
   "id": "f24a2a1e-d2e3-4ba9-ba2d-7e2bdb2fa02a",
   "metadata": {},
   "source": [
    "# Your solution here"
   ]
  }
 ],
 "metadata": {
  "kernelspec": {
   "display_name": "Python 3 (ipykernel)",
   "language": "python",
   "name": "python3"
  },
  "language_info": {
   "codemirror_mode": {
    "name": "ipython",
    "version": 3
   },
   "file_extension": ".py",
   "mimetype": "text/x-python",
   "name": "python",
   "nbconvert_exporter": "python",
   "pygments_lexer": "ipython3",
   "version": "3.8.12"
  }
 },
 "nbformat": 4,
 "nbformat_minor": 5
}
